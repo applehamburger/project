{
 "cells": [
  {
   "cell_type": "code",
   "execution_count": 2,
   "metadata": {},
   "outputs": [
    {
     "name": "stdout",
     "output_type": "stream",
     "text": [
      "请输入你猜的数字：26\n",
      "猜小了！\n",
      "请输入你猜的数字：50\n",
      "猜小了！\n",
      "请输入你猜的数字：80\n",
      "猜小了！\n",
      "请输入你猜的数字：90\n",
      "猜大了！\n",
      "请输入你猜的数字：85\n",
      "game over\n",
      "结束游戏请输入0,再来一局请输入11\n",
      "请输入你猜的数字：66\n",
      "猜大了！\n",
      "请输入你猜的数字：20\n",
      "猜大了！\n",
      "请输入你猜的数字：10\n",
      "猜小了！\n",
      "请输入你猜的数字：16\n",
      "您猜对了！\n",
      "结束游戏请输入0,再来一局请输入10\n"
     ]
    }
   ],
   "source": [
    "#猜数游戏  3.14\n",
    "import random\n",
    "while 1:\n",
    "    i = 0\n",
    "    num = random.randint(1,100)\n",
    "    while i < 5:\n",
    "        i +=1\n",
    "        guess = int (input (\"请输入你猜的数字：\"))\n",
    "        if guess == num:\n",
    "            print(\"您猜对了！\")\n",
    "            break\n",
    "        if i==5:\n",
    "            print(\"game over\")\n",
    "        elif num > guess:\n",
    "            print(\"猜小了！\")\n",
    "        elif num < guess:\n",
    "            print(\"猜大了！\")\n",
    "    n=int(input(\"结束游戏请输入0,再来一局请输入1\"))\n",
    "    if n==0:\n",
    "        break"
   ]
  },
  {
   "cell_type": "code",
   "execution_count": null,
   "metadata": {
    "collapsed": true
   },
   "outputs": [],
   "source": []
  }
 ],
 "metadata": {
  "kernelspec": {
   "display_name": "Python 3",
   "language": "python",
   "name": "python3"
  },
  "language_info": {
   "codemirror_mode": {
    "name": "ipython",
    "version": 3
   },
   "file_extension": ".py",
   "mimetype": "text/x-python",
   "name": "python",
   "nbconvert_exporter": "python",
   "pygments_lexer": "ipython3",
   "version": "3.6.3"
  }
 },
 "nbformat": 4,
 "nbformat_minor": 2
}

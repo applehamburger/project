{
 "cells": [
  {
   "cell_type": "code",
   "execution_count": null,
   "metadata": {
    "collapsed": true
   },
   "outputs": [],
   "source": [
    "import re\n",
    "from collections import defaultdict\n",
    "\n",
    "# 读取文件\n",
    "with open('input.txt', 'r', encoding='utf-8') as file:\n",
    "    text = file.read()\n",
    "\n",
    "# 使用正则表达式匹配形容词+“的”+地名\n",
    "pattern = r'([^\\s]+)\\s的\\s([^\\s]+)'\n",
    "matches = re.findall(pattern, text)\n",
    "\n",
    "# 统计匹配结果\n",
    "counter = defaultdict(int)\n",
    "for match in matches:\n",
    "    adj, ns = match\n",
    "    combo = f'{adj} 的 {ns}'\n",
    "    counter[combo] += 1 \n",
    "\n",
    "# 对结果按频次排序\n",
    "sorted_counter = sorted(counter.items(), key=lambda x: x[1], reverse=True)\n",
    "\n",
    "# 输出前20种组合到res.txt文件\n",
    "with open('res.txt', 'w', encoding='utf-8') as file:\n",
    "    for combo, count in sorted_counter[:20]:\n",
    "        file.write(f'{combo}\\t{count}\\n')\n",
    "import re\n",
    "from collections import defaultdict\n",
    "\n",
    "# 读取文件\n",
    "with open('input.txt', 'r', encoding='utf-8') as file:\n",
    "    text = file.read()\n",
    "\n",
    "# 使用正则表达式匹配形容词+“的”+地名\n",
    "pattern = r'([^\\s]+)\\s的\\s([^\\s]+)'\n",
    "matches = re.findall(pattern, text)\n",
    "\n",
    "# 统计匹配结果\n",
    "counter = defaultdict(int)\n",
    "for match in matches:\n",
    "    adj, ns = match\n",
    "    combo = f'{adj} 的 {ns}'\n",
    "    counter[combo] += 1\n",
    "\n",
    "# 对结果按频次排序\n",
    "sorted_counter = sorted(counter.items(), key=lambda x: x[1], reverse=True)\n",
    "\n",
    "# 输出前20种组合到res.txt文件\n",
    "with open('res.txt', 'w', encoding='utf-8') as file:\n",
    "    for combo, count in sorted_counter[:20]:\n",
    "        file.write(f'{combo}\\t{count}\\n')"
   ]
  }
 ],
 "metadata": {
  "kernelspec": {
   "display_name": "Python 3",
   "language": "python",
   "name": "python3"
  },
  "language_info": {
   "codemirror_mode": {
    "name": "ipython",
    "version": 3
   },
   "file_extension": ".py",
   "mimetype": "text/x-python",
   "name": "python",
   "nbconvert_exporter": "python",
   "pygments_lexer": "ipython3",
   "version": "3.6.3"
  }
 },
 "nbformat": 4,
 "nbformat_minor": 2
}

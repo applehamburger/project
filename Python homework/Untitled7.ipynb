{
 "cells": [
  {
   "cell_type": "code",
   "execution_count": 5,
   "metadata": {
    "collapsed": true
   },
   "outputs": [],
   "source": [
    "#间隔生成列表3.21\n",
    "def merge_lists(a, b):\n",
    "    \"\"\"\n",
    "    将两个相同长度的list，间隔插入，生成并返回一个新的list。\n",
    "    :param a: 第一个list\n",
    "    :param b: 第二个list\n",
    "    :return: 生成的新list\n",
    "    \"\"\"\n",
    "    result = []\n",
    "    for i in range(len(a)):\n",
    "        result.append(a[i])\n",
    "        result.append(b[i])\n",
    "    return result"
   ]
  }
 ],
 "metadata": {
  "kernelspec": {
   "display_name": "Python 3",
   "language": "python",
   "name": "python3"
  },
  "language_info": {
   "codemirror_mode": {
    "name": "ipython",
    "version": 3
   },
   "file_extension": ".py",
   "mimetype": "text/x-python",
   "name": "python",
   "nbconvert_exporter": "python",
   "pygments_lexer": "ipython3",
   "version": "3.6.3"
  }
 },
 "nbformat": 4,
 "nbformat_minor": 2
}

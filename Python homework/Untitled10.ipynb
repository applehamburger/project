{
 "cells": [
  {
   "cell_type": "code",
   "execution_count": 3,
   "metadata": {},
   "outputs": [
    {
     "name": "stdout",
     "output_type": "stream",
     "text": [
      "[3, 5, 7, 11, 13, 17, 19, 23, 29, 31, 37, 41, 43, 47, 53, 59, 61, 67, 71, 73]\n"
     ]
    }
   ],
   "source": [
    "def findPrimes(n:int):\n",
    "    res=[]\n",
    "    for i in range(3,n+1):\n",
    "        if isPrime(i):\n",
    "            res.append(i)\n",
    "    return res\n",
    " \n",
    "def isPrime(n:int):\n",
    "    for i in range(2,int(n**0.5)+2):\n",
    "        if n%i==0:\n",
    "            return False\n",
    "    return True\n",
    "\n",
    "def findDist(pri):\n",
    "    res[]\n",
    "    for i in range(1,len(pri)):\n",
    "        res.append(pri[i]-pri[i-1])\n",
    "    return res\n",
    "\n",
    "def findMax(a:list):\n",
    "    res=a[0]\n",
    "    for i in a:\n",
    "        if i>res:\n",
    "            res=i\n",
    "    return res\n",
    "\n",
    "def findAve(a:list):\n",
    "    res=0\n",
    "    for i in a:\n",
    "        res+=i\n",
    "    return res/len(a)\n",
    "    \n",
    "def findVar(a:list):\n",
    "    res=0\n",
    "    ave=findAve(a)\n",
    "    for i in a:\n",
    "        res+=(i-ave)**2\n",
    "    return res/len(a)\n",
    "\n",
    "def findMore(a:list):\n",
    "    res=0\n",
    "    ave=findAve(a)\n",
    "    for\n",
    "      if  \n",
    "    \n",
    "pri=findPrimes(1000)\n",
    "print(pri[:20])"
   ]
  },
  {
   "cell_type": "code",
   "execution_count": null,
   "metadata": {
    "collapsed": true
   },
   "outputs": [],
   "source": []
  }
 ],
 "metadata": {
  "kernelspec": {
   "display_name": "Python 3",
   "language": "python",
   "name": "python3"
  },
  "language_info": {
   "codemirror_mode": {
    "name": "ipython",
    "version": 3
   },
   "file_extension": ".py",
   "mimetype": "text/x-python",
   "name": "python",
   "nbconvert_exporter": "python",
   "pygments_lexer": "ipython3",
   "version": "3.6.3"
  }
 },
 "nbformat": 4,
 "nbformat_minor": 2
}

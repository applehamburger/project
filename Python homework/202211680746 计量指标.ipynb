{
 "cells": [
  {
   "cell_type": "code",
   "execution_count": 2,
   "metadata": {},
   "outputs": [
    {
     "name": "stdout",
     "output_type": "stream",
     "text": [
      "[nltk_data] Error loading punkt: <urlopen error [Errno 11004]\n",
      "[nltk_data]     getaddrinfo failed>\n",
      "[nltk_data] Error loading averaged_perceptron_tagger: <urlopen error\n",
      "[nltk_data]     [Errno 11004] getaddrinfo failed>\n"
     ]
    },
    {
     "ename": "FileNotFoundError",
     "evalue": "[Errno 2] No such file or directory: 'E:\\\\Python作业.txt'",
     "output_type": "error",
     "traceback": [
      "\u001b[1;31m---------------------------------------------------------------------------\u001b[0m",
      "\u001b[1;31mFileNotFoundError\u001b[0m                         Traceback (most recent call last)",
      "\u001b[1;32m<ipython-input-2-b3f70dc26be4>\u001b[0m in \u001b[0;36m<module>\u001b[1;34m()\u001b[0m\n\u001b[0;32m     24\u001b[0m \u001b[1;33m\u001b[0m\u001b[0m\n\u001b[0;32m     25\u001b[0m \u001b[1;31m# 读取2023.9.1-10.1语料库并计算指标\u001b[0m\u001b[1;33m\u001b[0m\u001b[1;33m\u001b[0m\u001b[0m\n\u001b[1;32m---> 26\u001b[1;33m \u001b[1;32mwith\u001b[0m \u001b[0mopen\u001b[0m\u001b[1;33m(\u001b[0m\u001b[1;34m'E:\\Python作业.txt'\u001b[0m\u001b[1;33m,\u001b[0m \u001b[0mencoding\u001b[0m\u001b[1;33m=\u001b[0m\u001b[1;34m'utf-8'\u001b[0m\u001b[1;33m)\u001b[0m \u001b[1;32mas\u001b[0m \u001b[0mf\u001b[0m\u001b[1;33m:\u001b[0m\u001b[1;33m\u001b[0m\u001b[0m\n\u001b[0m\u001b[0;32m     27\u001b[0m     \u001b[0mcorpus1\u001b[0m \u001b[1;33m=\u001b[0m \u001b[0mf\u001b[0m\u001b[1;33m.\u001b[0m\u001b[0mread\u001b[0m\u001b[1;33m(\u001b[0m\u001b[1;33m)\u001b[0m\u001b[1;33m\u001b[0m\u001b[0m\n\u001b[0;32m     28\u001b[0m \u001b[0mttr1\u001b[0m\u001b[1;33m,\u001b[0m \u001b[0mvr1\u001b[0m \u001b[1;33m=\u001b[0m \u001b[0mcalculate_metrics\u001b[0m\u001b[1;33m(\u001b[0m\u001b[0mcorpus1\u001b[0m\u001b[1;33m)\u001b[0m\u001b[1;33m\u001b[0m\u001b[0m\n",
      "\u001b[1;31mFileNotFoundError\u001b[0m: [Errno 2] No such file or directory: 'E:\\\\Python作业.txt'"
     ]
    }
   ],
   "source": [
    "\n",
    "\n",
    "import nltk\n",
    "nltk.download('punkt')\n",
    "nltk.download('averaged_perceptron_tagger')\n",
    "\n",
    "def calculate_metrics(corpus):\n",
    "    # 对语料库进行分词和词性标注\n",
    "    tokens = nltk.word_tokenize(corpus)\n",
    "    tagged_tokens = nltk.pos_tag(tokens, tagset='universal')\n",
    "\n",
    "    # 计算总词数和词表长度\n",
    "    total_words = len(tagged_tokens)\n",
    "    unique_words = len(set([word.lower() for word, _ in tagged_tokens]))\n",
    "\n",
    "    # 计算TTR\n",
    "    ttr = unique_words / total_words\n",
    "\n",
    "    # 计算动词总次数和总词数，并计算VR\n",
    "    verb_count = len([word for word, pos in tagged_tokens if pos == 'VERB'])\n",
    "    vr = verb_count / total_words\n",
    "\n",
    "    return ttr, vr\n",
    "\n",
    "# 读取2023.9.1-10.1语料库并计算指标\n",
    "with open('E:\\Python作业.txt', encoding='utf-8') as f:\n",
    "    corpus1 = f.read()\n",
    "ttr1, vr1 = calculate_metrics(corpus1)\n",
    "\n",
    "# 读取2023.1.1-2.1语料库并计算指标\n",
    "with open('E:\\Python作业.txt', encoding='utf-8') as f:\n",
    "    corpus2 = f.read()\n",
    "ttr2, vr2 = calculate_metrics(corpus2)\n",
    "\n",
    "# 输出指标结果\n",
    "print('2023.9.1-10.1 TTR:', ttr1)\n",
    "print('2023.9.1-10.1 VR:', vr1)\n",
    "print('2023.1.1-2.1 TTR:', ttr2)\n",
    "print('2023.1.1-2.1 VR:', vr2)\n"
   ]
  },
  {
   "cell_type": "code",
   "execution_count": null,
   "metadata": {
    "collapsed": true
   },
   "outputs": [],
   "source": [
    "def readData(fn_test,fn_gold):\n",
    "    with open (fn.test,encoding='utf-8')"
   ]
  }
 ],
 "metadata": {
  "kernelspec": {
   "display_name": "Python 3",
   "language": "python",
   "name": "python3"
  },
  "language_info": {
   "codemirror_mode": {
    "name": "ipython",
    "version": 3
   },
   "file_extension": ".py",
   "mimetype": "text/x-python",
   "name": "python",
   "nbconvert_exporter": "python",
   "pygments_lexer": "ipython3",
   "version": "3.6.3"
  }
 },
 "nbformat": 4,
 "nbformat_minor": 2
}

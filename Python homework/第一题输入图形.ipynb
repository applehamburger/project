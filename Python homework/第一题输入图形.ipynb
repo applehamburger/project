{
 "cells": [
  {
   "cell_type": "code",
   "execution_count": 1,
   "metadata": {},
   "outputs": [
    {
     "ename": "SyntaxError",
     "evalue": "unexpected EOF while parsing (<ipython-input-1-1ab7f9ea19a5>, line 1)",
     "output_type": "error",
     "traceback": [
      "\u001b[1;36m  File \u001b[1;32m\"<ipython-input-1-1ab7f9ea19a5>\"\u001b[1;36m, line \u001b[1;32m1\u001b[0m\n\u001b[1;33m    s=int(input('')\u001b[0m\n\u001b[1;37m                   ^\u001b[0m\n\u001b[1;31mSyntaxError\u001b[0m\u001b[1;31m:\u001b[0m unexpected EOF while parsing\n"
     ]
    }
   ],
   "source": [
    "def print_line(n, line, digit):\n",
    "    if digit == 5:\n",
    "        if line == 0 or line == n - 2 or line == 2 * n - 4:\n",
    "            return '0' * n\n",
    "        elif line < n - 2:\n",
    "            return '0'\n",
    "        else:\n",
    "            return '0'.rjust(n)\n",
    "\n",
    "    if digit == 8:\n",
    "        if line == 0 or line == n - 2 or line == 2 * n - 4:\n",
    "            return '0' * n\n",
    "        else:\n",
    "            return '0' + ' '.rjust(n - 2) + '0'\n",
    "\n",
    "\n",
    "def print_digits(n, choice):\n",
    "    height = 2 * n - 3\n",
    "\n",
    "    if choice == 85:\n",
    "        for i in range(height):\n",
    "            print(print_line(n, i, 8) + \" \" + print_line(n, i, 5))\n",
    "    else:\n",
    "        for i in range(height):\n",
    "            print(print_line(n, i, choice))\n",
    "\n",
    "\n",
    "def tower(n, choice):\n",
    "    if not (4 <= n <= 20) or int(choice) not in [5, 8, 85]:\n",
    "        print('Invalid input')\n",
    "    else:\n",
    "        print_digits(n, int(choice))\n",
    "\n",
    "\n",
    "\n",
    "def get_input():\n",
    "    while True:\n",
    "        n = input(\"请输入n（4 <= n <= 20）: \")\n",
    "        if n.isdigit():\n",
    "            n = int(n)\n",
    "            if 4 <= n <= 20:\n",
    "                break\n",
    "        print(\"无效的输入，请重新输入。\")\n",
    "\n",
    "    while True:\n",
    "        choice = input(\"请输入choice（5, 8, 85）: \")\n",
    "        if choice in [\"5\", \"8\", \"85\"]:\n",
    "            break\n",
    "        print(\"无效的输入，请重新输入。\")\n",
    "\n",
    "    tower(n, choice)\n",
    "\n",
    "get_input()"
   ]
  }
 ],
 "metadata": {
  "kernelspec": {
   "display_name": "Python 3",
   "language": "python",
   "name": "python3"
  },
  "language_info": {
   "codemirror_mode": {
    "name": "ipython",
    "version": 3
   },
   "file_extension": ".py",
   "mimetype": "text/x-python",
   "name": "python",
   "nbconvert_exporter": "python",
   "pygments_lexer": "ipython3",
   "version": "3.6.3"
  }
 },
 "nbformat": 4,
 "nbformat_minor": 2
}

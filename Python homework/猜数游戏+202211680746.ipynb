{
 "cells": [
  {
   "cell_type": "code",
   "execution_count": null,
   "metadata": {
    "collapsed": true
   },
   "outputs": [],
   "source": [
    "#猜数游戏3.21\n",
    "import random\n",
    "def guess_number():\n",
    "    guess_times = 0\n",
    "    guess_range = (20, 30)\n",
    "    target_number = random.randint(*guess_range)\n",
    "    while True:\n",
    "        guess = input(\"请输入{}到{}之间的整数：\".format(*guess_range))\n",
    "        if not guess.isdigit():\n",
    "            print(\"输入错误，请输入整数！\")\n",
    "            continue\n",
    "        guess = int(guess)\n",
    "        if guess < guess_range[0] or guess > guess_range[1]:\n",
    "            print(\"猜测越界，请输入{}到{}之间的整数！\".format(*guess_range))\n",
    "            continue\n",
    "        guess_times += 1\n",
    "        if guess < target_number:\n",
    "            print(\"猜小了！\")\n",
    "        elif guess > target_number:\n",
    "            print(\"猜大了！\")\n",
    "        else:\n",
    "            print(\"恭喜你，猜对了！你猜了{}次。\".format(guess_times))\n",
    "            break\n",
    "guess_number()"
   ]
  }
 ],
 "metadata": {
  "kernelspec": {
   "display_name": "Python 3",
   "language": "python",
   "name": "python3"
  },
  "language_info": {
   "codemirror_mode": {
    "name": "ipython",
    "version": 3
   },
   "file_extension": ".py",
   "mimetype": "text/x-python",
   "name": "python",
   "nbconvert_exporter": "python",
   "pygments_lexer": "ipython3",
   "version": "3.6.3"
  }
 },
 "nbformat": 4,
 "nbformat_minor": 2
}

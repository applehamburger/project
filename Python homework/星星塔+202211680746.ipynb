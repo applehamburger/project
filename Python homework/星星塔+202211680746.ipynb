{
 "cells": [
  {
   "cell_type": "code",
   "execution_count": null,
   "metadata": {
    "collapsed": true
   },
   "outputs": [],
   "source": [
    "#星星塔4.4\n",
    "s=input(\"请输入符号：\")\n",
    "b=int(input(\"你喜欢的高度：\"))\n",
    "def zuoxiazhijiao(s):\n",
    "    for i in range(1, h+1):\n",
    "        print(s*i)\n",
    "\n",
    "\n",
    "def zuoshangzhijiao(s):\n",
    "    for i in range(1, h+1):\n",
    "        print(s*(h-i+1)+' '*(i-1))\n",
    "        \n",
    "\n",
    "def youxiazhijiao(s):\n",
    "    for i in range(1, h+1):\n",
    "        print(' '*(h-i)+s*i)\n",
    "        \n",
    "\n",
    "def youshangzhijiao(s):\n",
    "    for i in range(1, h+1):\n",
    "        print(' '*(i-1)+s*(h+1-i))\n",
    "\n",
    "\n",
    "def shangdingjiao(s):\n",
    "    for i in range(1,h+1):\n",
    "        print(' '*(h-i)+s*(2*i-1))\n",
    "        \n",
    "def xiadingjiao(s):\n",
    "    for i in range(1,h+1):\n",
    "        print(' '*(i-1)+s*(2*(h-i+1)-1)+' '*(i-1))\n",
    "zuoxiazhijiao(s)\n",
    "\n",
    "zuoshangzhijiao(s)\n",
    "\n",
    "youxiazhijiao(s)\n",
    "\n",
    "youshangzhijiao(s)\n",
    "\n",
    "shangdingjiao(s)\n",
    "\n",
    "xiadingjiao(s)"
   ]
  }
 ],
 "metadata": {
  "kernelspec": {
   "display_name": "Python 3",
   "language": "python",
   "name": "python3"
  },
  "language_info": {
   "codemirror_mode": {
    "name": "ipython",
    "version": 3
   },
   "file_extension": ".py",
   "mimetype": "text/x-python",
   "name": "python",
   "nbconvert_exporter": "python",
   "pygments_lexer": "ipython3",
   "version": "3.6.3"
  }
 },
 "nbformat": 4,
 "nbformat_minor": 2
}

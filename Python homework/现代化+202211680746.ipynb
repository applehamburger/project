{
 "cells": [
  {
   "cell_type": "code",
   "execution_count": 2,
   "metadata": {},
   "outputs": [],
   "source": [
    "#现代化4.18\n",
    "file= r\"D:\\20thReport.txt\"\n",
    "f= open(file,encoding=\"utf-8\") \n",
    "T=f.read()\n",
    "f.close()\n",
    "\n",
    "l=[]\n",
    "l=T.split('。')\n",
    "words=('\\n'.join(l))\n",
    "t=[]\n",
    "t=words.split('\\n')\n",
    "\n",
    "s=[]\n",
    "for j in t:\n",
    "    for k in range(len(j)):\n",
    "        if k<len(j) and j[k]==\"中\":\n",
    "            if k+1<len(j)and j[k+1]==\"国\":\n",
    "                if  k+2<len(j)and j[k+2]==\"式\":\n",
    "                    if k+3<len(j)and j[k+3]==\"现\":\n",
    "                        if k+4<len(j)and j[k+4]==\"代\":\n",
    "                            if k+5<len(j)and j[k+5]==\"化\":\n",
    "                                s.append(j)\n",
    " \n",
    "file2 = r\"D:\\ChineseMordernization.txt\"\n",
    "f2 = open(file2, \"w\")\n",
    "for i in s:\n",
    "    print(i,file=f2)\n",
    "    print('\\n',file=f2)\n",
    "f2.close()"
   ]
  },
  {
   "cell_type": "code",
   "execution_count": null,
   "metadata": {
    "collapsed": true
   },
   "outputs": [],
   "source": []
  }
 ],
 "metadata": {
  "kernelspec": {
   "display_name": "Python 3",
   "language": "python",
   "name": "python3"
  },
  "language_info": {
   "codemirror_mode": {
    "name": "ipython",
    "version": 3
   },
   "file_extension": ".py",
   "mimetype": "text/x-python",
   "name": "python",
   "nbconvert_exporter": "python",
   "pygments_lexer": "ipython3",
   "version": "3.6.3"
  }
 },
 "nbformat": 4,
 "nbformat_minor": 2
}

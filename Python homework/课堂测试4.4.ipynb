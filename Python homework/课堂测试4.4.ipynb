{
 "cells": [
  {
   "cell_type": "code",
   "execution_count": 4,
   "metadata": {},
   "outputs": [
    {
     "name": "stdout",
     "output_type": "stream",
     "text": [
      "请输入小于13的字符串shdjabfk\n",
      "ab在字符串中\n",
      "s\n",
      "k\n",
      "s\n",
      "h\n",
      "d\n",
      "j\n",
      "a\n",
      "b\n",
      "f\n",
      "k\n",
      "kfbajdhs\n",
      "jf\n",
      "1\n",
      "4\n"
     ]
    }
   ],
   "source": [
    "#随堂测试题：\n",
    "\n",
    "#从键盘读入任意长度大于13的字符串，且必须包含\"ab\"，且\"ab\"不在索引0位置。写程序：\n",
    "s=input(\"请输入小于13的字符串\")\n",
    "if \"ab\"in s:\n",
    "    print(\"ab在字符串中\")\n",
    "else:\n",
    "    print(\"ab不在字符串中\")\n",
    "#0）判断\"ab\"是否在该自字符串中（10分）\n",
    "print(s[0])\n",
    "print(s[-1])\n",
    "for i in range(len(s)):\n",
    "    print(s[i])\n",
    "print(s[::-1])\n",
    "print(s[3:13:3])\n",
    "print(s.count(\"ab\"))\n",
    "print(s.find(\"ab\"))\n",
    "\n"
   ]
  },
  {
   "cell_type": "code",
   "execution_count": null,
   "metadata": {
    "collapsed": true
   },
   "outputs": [],
   "source": []
  }
 ],
 "metadata": {
  "kernelspec": {
   "display_name": "Python 3",
   "language": "python",
   "name": "python3"
  },
  "language_info": {
   "codemirror_mode": {
    "name": "ipython",
    "version": 3
   },
   "file_extension": ".py",
   "mimetype": "text/x-python",
   "name": "python",
   "nbconvert_exporter": "python",
   "pygments_lexer": "ipython3",
   "version": "3.6.3"
  }
 },
 "nbformat": 4,
 "nbformat_minor": 2
}

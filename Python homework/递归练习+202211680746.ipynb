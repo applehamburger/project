{
 "cells": [
  {
   "cell_type": "code",
   "execution_count": null,
   "metadata": {
    "collapsed": true
   },
   "outputs": [],
   "source": [
    "def my_rec_sum(a,b):\n",
    "    if a==b:\n",
    "        return b\n",
    "    else:\n",
    "        return a+my_rec_sum(a+1,b)\n",
    "\n",
    "print(my_rec_sum(0,100))\n",
    "\n",
    "\n",
    "def Digitsum(n):\n",
    "    i=0\n",
    "    while n%(10**i)!=n:\n",
    "        i=i+1\n",
    "    t=n//10**(i-1)\n",
    "    if i==1:\n",
    "        return n\n",
    "    else:\n",
    "        return t+Digitsum(n-t*(10**(i-1)))\n",
    "        \n",
    "print(Digitsum(1729))\n",
    "\n",
    "\n",
    "def Liustep(n):\n",
    "    if n<=2:\n",
    "        return n\n",
    "    else:\n",
    "        return Liustep(n-1)+Liustep(n-2)\n",
    "\n",
    "\n",
    "print(Liustep(10))\n"
   ]
  }
 ],
 "metadata": {
  "kernelspec": {
   "display_name": "Python 3",
   "language": "python",
   "name": "python3"
  },
  "language_info": {
   "codemirror_mode": {
    "name": "ipython",
    "version": 3
   },
   "file_extension": ".py",
   "mimetype": "text/x-python",
   "name": "python",
   "nbconvert_exporter": "python",
   "pygments_lexer": "ipython3",
   "version": "3.6.3"
  }
 },
 "nbformat": 4,
 "nbformat_minor": 2
}

{
 "cells": [
  {
   "cell_type": "code",
   "execution_count": null,
   "metadata": {
    "collapsed": true
   },
   "outputs": [],
   "source": [
    "'''将1998年1月人民日报中形容词a+“的”+地名ns的情况统计出来，并进行排序，输出前20种组合，形成res.txt。\n",
    "格式如：\n",
    "美丽 的 北京   120031\n",
    "宽阔 的 长江   100211\n",
    "……'''\n",
    "\n",
    "import re \n",
    "\n",
    "p1=r'\\w+\\/a  的/u  \\w+\\/ns'\n",
    "p2=r'\\w+\\/a  的/u  \\[[^\\]]+\\]]ns'\n",
    "res={}\n",
    "with open(r'C:\\Users\\lenovo\\Documents\\WeChat Files\\wxid_xbbl8ok0ynhv22\\FileStorage\\File\\2023-09\\199801.txt') as f:\n",
    "    for line in f:\n",
    "        w1=re.findall(p1,line)\n",
    "        for i in w1:\n",
    "            if i not in res:\n",
    "                res[i]=1\n",
    "            else:\n",
    "                res[i]+=1\n",
    "\n",
    "        w2=re.findall(p2,line)\n",
    "        for j in w2:\n",
    "            if j not in res:\n",
    "                res[j]=1\n",
    "            else:\n",
    "                res[j]+=1\n",
    "\n",
    "fo=open(r'C:\\Users\\lenovo\\Documents\\WeChat Files\\wxid_xbbl8ok0ynhv22\\FileStorage\\File\\2023-09\\199801.txt','w')\n",
    "nslist=sorted(res.items(),key=lambda d:d[1],reverse=True)\n",
    "reslist=nslist[:20]\n",
    "for m,n in reslist:\n",
    "    fo.write(m+'\\t'+str(n)+'\\n')\n",
    "\n",
    "fo.close()"
   ]
  }
 ],
 "metadata": {
  "kernelspec": {
   "display_name": "Python 3",
   "language": "python",
   "name": "python3"
  },
  "language_info": {
   "codemirror_mode": {
    "name": "ipython",
    "version": 3
   },
   "file_extension": ".py",
   "mimetype": "text/x-python",
   "name": "python",
   "nbconvert_exporter": "python",
   "pygments_lexer": "ipython3",
   "version": "3.6.3"
  }
 },
 "nbformat": 4,
 "nbformat_minor": 2
}

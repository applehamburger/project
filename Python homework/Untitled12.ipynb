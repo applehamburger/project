{
 "cells": [
  {
   "cell_type": "code",
   "execution_count": 1,
   "metadata": {},
   "outputs": [
    {
     "ename": "SyntaxError",
     "evalue": "invalid character in identifier (<ipython-input-1-b596434b6ff6>, line 24)",
     "output_type": "error",
     "traceback": [
      "\u001b[1;36m  File \u001b[1;32m\"<ipython-input-1-b596434b6ff6>\"\u001b[1;36m, line \u001b[1;32m24\u001b[0m\n\u001b[1;33m    ​\u001b[0m\n\u001b[1;37m    ^\u001b[0m\n\u001b[1;31mSyntaxError\u001b[0m\u001b[1;31m:\u001b[0m invalid character in identifier\n"
     ]
    }
   ],
   "source": [
    "# 让同学们debug的实例-1\n",
    "\n",
    "def add_underscores(word):\n",
    "    new_word = \"_\"\n",
    "\n",
    "    for i in range(len(word)):\n",
    "        new_word = word[i] + \"_\"\n",
    "    return new_word\n",
    "\n",
    "\n",
    "\n",
    "def my_reverse(word):\n",
    "    return word[::-1]\n",
    "\n",
    "\n",
    "\n",
    "phrase = \"hello\"\n",
    "my_reverse(phrase)\n",
    "print(add_underscores(phrase))\n",
    "# 希望输出：_o_l_l_e_h_\n",
    "\n",
    "\n",
    "\n",
    "​\n",
    "\n",
    "# 让同学们debug的实例-2\n",
    "L = [[5, 5.5, \"dsfd\"], (6, 56.6, \"adfsa\"), 5, 5,5, \"asdksa\"]\n",
    "total = 0\n",
    "for item in L:\n",
    "    if isinstance(item, int) or isinstance(item, float):\n",
    "        total += item\n",
    "    elif isinstance(item, list) or isinstance(item, tuple):\n",
    "        for e in item:\n",
    "            if isinstance(item, int) or isinstance(item, float):\n",
    "                total += item\n",
    "\n",
    "print(total)\n",
    "\n",
    "#无需提交，自行调试"
   ]
  },
  {
   "cell_type": "code",
   "execution_count": 2,
   "metadata": {},
   "outputs": [
    {
     "name": "stdout",
     "output_type": "stream",
     "text": [
      "o_\n"
     ]
    }
   ],
   "source": [
    "# 让同学们debug的实例-1\n",
    "\n",
    "def add_underscores(word):\n",
    "    new_word = \"_\"\n",
    "\n",
    "    for i in range(len(word)):\n",
    "        new_word = word[i] + \"_\"\n",
    "    return new_word\n",
    "\n",
    "\n",
    "\n",
    "def my_reverse(word):\n",
    "    return word[::-1]\n",
    "\n",
    "\n",
    "\n",
    "phrase = \"hello\"\n",
    "my_reverse(phrase)\n",
    "print(add_underscores(phrase))\n",
    "# 希望输出：_o_l_l_e_h_\n"
   ]
  },
  {
   "cell_type": "code",
   "execution_count": null,
   "metadata": {
    "collapsed": true
   },
   "outputs": [],
   "source": []
  }
 ],
 "metadata": {
  "kernelspec": {
   "display_name": "Python 3",
   "language": "python",
   "name": "python3"
  },
  "language_info": {
   "codemirror_mode": {
    "name": "ipython",
    "version": 3
   },
   "file_extension": ".py",
   "mimetype": "text/x-python",
   "name": "python",
   "nbconvert_exporter": "python",
   "pygments_lexer": "ipython3",
   "version": "3.6.3"
  }
 },
 "nbformat": 4,
 "nbformat_minor": 2
}

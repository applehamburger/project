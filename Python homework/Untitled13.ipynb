{
 "cells": [
  {
   "cell_type": "code",
   "execution_count": 1,
   "metadata": {},
   "outputs": [
    {
     "name": "stdout",
     "output_type": "stream",
     "text": [
      "\n"
     ]
    }
   ],
   "source": [
    "def sortletters(s,o):\n",
    "    if o==r'o':\n",
    "        res='z'\n",
    "        for i in s:\n",
    "            for j in range (len(res)):\n",
    "                if i>res[j]:\n",
    "                    res=res[:j]+i+res[j:]\n",
    "                    break\n",
    "        return res[:-1]\n",
    "    elif o==r'r': \n",
    "        return 'coming soon'\n",
    "    else:\n",
    "        return 'wrong arg2'\n",
    "s=r'loveneverfailsnomatteryoubelieveitornot'\n",
    "print(sortletters(s,'o'))"
   ]
  },
  {
   "cell_type": "code",
   "execution_count": 3,
   "metadata": {},
   "outputs": [
    {
     "ename": "SyntaxError",
     "evalue": "invalid syntax (<ipython-input-3-35859a225914>, line 2)",
     "output_type": "error",
     "traceback": [
      "\u001b[1;36m  File \u001b[1;32m\"<ipython-input-3-35859a225914>\"\u001b[1;36m, line \u001b[1;32m2\u001b[0m\n\u001b[1;33m    return len=(s.split(''))\u001b[0m\n\u001b[1;37m              ^\u001b[0m\n\u001b[1;31mSyntaxError\u001b[0m\u001b[1;31m:\u001b[0m invalid syntax\n"
     ]
    }
   ],
   "source": [
    "def countWord(s):\n",
    "    return len=(s.split(''))\n",
    "\n",
    "def wordFreqCo(s):\n",
    "    l=s,split('')\n",
    "    for i in l:\n",
    "        res.append((i,s.count(i)))\n",
    "    return res\n",
    "\n",
    "def wordFreqCo(s):\n",
    "    l=s,split('')\n",
    "    re=[]\n",
    "    for i in l:\n",
    "        count=0\n",
    "        for j in l:\n",
    "            if j==1:\n",
    "            count+=1\n",
    "    return res\n",
    "s=r'loveneverfailsnomatteryoubelieveitornot'\n",
    "print(count)"
   ]
  },
  {
   "cell_type": "code",
   "execution_count": null,
   "metadata": {
    "collapsed": true
   },
   "outputs": [],
   "source": [
    "f=oprn  \n",
    "\n",
    "\n",
    "\n",
    "\n",
    "\n",
    "\n",
    "\n",
    "\n",
    "\n",
    "\n",
    "\n",
    "\n",
    "\n",
    "\n",
    "\n",
    "\n",
    "\n",
    "\n",
    "\n",
    "\n",
    "\n",
    "\n",
    "\n",
    "\n",
    "\n",
    "\n",
    "\n",
    "\n"
   ]
  }
 ],
 "metadata": {
  "kernelspec": {
   "display_name": "Python 3",
   "language": "python",
   "name": "python3"
  },
  "language_info": {
   "codemirror_mode": {
    "name": "ipython",
    "version": 3
   },
   "file_extension": ".py",
   "mimetype": "text/x-python",
   "name": "python",
   "nbconvert_exporter": "python",
   "pygments_lexer": "ipython3",
   "version": "3.6.3"
  }
 },
 "nbformat": 4,
 "nbformat_minor": 2
}

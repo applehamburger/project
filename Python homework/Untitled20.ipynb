{
 "cells": [
  {
   "cell_type": "code",
   "execution_count": null,
   "metadata": {
    "collapsed": true
   },
   "outputs": [],
   "source": [
    "def funcA():\n",
    "    num = 10\n",
    "    print(num)\n",
    "\n",
    "    def funcB():\n",
    "        nonlocal num   # 要使用外部函数的num了，所以告诉解释器一下\n",
    "        num += 20    #改成num += 20 会报错，与之前类似\n",
    "        print(num)\n",
    "    \n",
    "    funcB()\n",
    "    print(num)\n",
    "\n",
    "funcA()\n",
    "class Tag:\n",
    "    def __init__(self, tag_name):\n",
    "        self.tag_name = tag_name\n",
    "    def add_tag(self, content):\n",
    "        return f\"<{self.tag_name}>{content}</{self.tag_name}>\"\n",
    "\n",
    "content = 'Hello'\n",
    "tag = Tag(\"a\")\n",
    "print(tag.add_tag(content))\n",
    "tag = Tag(\"b\")\n",
    "print(tag.add_tag(content))  \n",
    "\n",
    "# 2\n",
    "class Map:\n",
    "    def __init__(self, x = 0, y = 0):\n",
    "        self.pos = [x, y]\n",
    "\n",
    "    def go(self, direction, step):\n",
    "        if direction == 1:\n",
    "            self.pos[1] += step\n",
    "        elif direction == 2:\n",
    "            self.pos[0] += step\n",
    "        elif direction == 3:\n",
    "            self.pos[1] -= step\n",
    "        elif direction == 4:\n",
    "            self.pos[0] -= step        \n",
    "        else:\n",
    "            raise ValueError(\"direction必须是1-4\")\n",
    "        return self.pos\n",
    "\n",
    "map = Map()\n",
    "print(map.go(1,10))\n",
    "print(map.go(2,20)) \n",
    "print(map.go(4,10))\n"
   ]
  }
 ],
 "metadata": {
  "kernelspec": {
   "display_name": "Python 3",
   "language": "python",
   "name": "python3"
  },
  "language_info": {
   "codemirror_mode": {
    "name": "ipython",
    "version": 3
   },
   "file_extension": ".py",
   "mimetype": "text/x-python",
   "name": "python",
   "nbconvert_exporter": "python",
   "pygments_lexer": "ipython3",
   "version": "3.6.3"
  }
 },
 "nbformat": 4,
 "nbformat_minor": 2
}

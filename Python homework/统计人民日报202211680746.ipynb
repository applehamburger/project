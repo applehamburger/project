{
 "cells": [
  {
   "cell_type": "code",
   "execution_count": null,
   "metadata": {
    "collapsed": true
   },
   "outputs": [],
   "source": [
    "wl=open(r'199801.txt',encoding='utf-8').read().split(' ')\n",
    "wf={}\n",
    "for i in wl:\n",
    "    if i in wf:\n",
    "        wf[i]+=1\n",
    "    else:\n",
    "        wf[i]=1\n",
    "        \n",
    "wfs=sorted(wf.items(),key=lambda d:d[1],reverse=True)\n",
    "print(wfs[:20])\n",
    "\n",
    "\n",
    "s=[]\n",
    "if i=='n':\n",
    "    s.append(i)\n",
    "wf={}\n",
    "for i in s:\n",
    "    if i in wf:\n",
    "        wf[i]+=1\n",
    "    else:\n",
    "        wf[i]=1\n",
    "        \n",
    "wfs=sorted(wf.items(),key=lambda d:d[1],reverse=True)\n",
    "print(wfs[:20])\n",
    "\n",
    "\n",
    "a=[]\n",
    "if i=='i':\n",
    "    a.append(i)\n",
    "wf={}\n",
    "for i in a:\n",
    "    if i in wf:\n",
    "        wf[i]+=1\n",
    "    else:\n",
    "        wf[i]=1\n",
    "        \n",
    "wfs=sorted(wf.items(),key=lambda d:d[1],reverse=True)\n",
    "print(wfs[:20])\n"
   ]
  }
 ],
 "metadata": {
  "kernelspec": {
   "display_name": "Python 3",
   "language": "python",
   "name": "python3"
  },
  "language_info": {
   "codemirror_mode": {
    "name": "ipython",
    "version": 3
   },
   "file_extension": ".py",
   "mimetype": "text/x-python",
   "name": "python",
   "nbconvert_exporter": "python",
   "pygments_lexer": "ipython3",
   "version": "3.6.3"
  }
 },
 "nbformat": 4,
 "nbformat_minor": 2
}
